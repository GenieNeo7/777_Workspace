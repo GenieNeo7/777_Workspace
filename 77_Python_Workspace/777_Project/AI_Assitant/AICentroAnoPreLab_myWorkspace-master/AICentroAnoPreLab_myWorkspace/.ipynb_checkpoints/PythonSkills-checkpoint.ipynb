{
 "cells": [
  {
   "cell_type": "markdown",
   "metadata": {},
   "source": [
    "### file 또는 검색으로 library 찾기"
   ]
  },
  {
   "cell_type": "markdown",
   "metadata": {},
   "source": [
    "#### 파일로 모듈 찾기"
   ]
  },
  {
   "cell_type": "code",
   "execution_count": 28,
   "metadata": {},
   "outputs": [],
   "source": [
    "from tensorflow import keras\n",
    "from tensorflow.keras import models"
   ]
  },
  {
   "cell_type": "code",
   "execution_count": 5,
   "metadata": {},
   "outputs": [
    {
     "data": {
      "text/plain": [
       "'/usr/local/lib/python3.6/dist-packages/tensorflow/python/keras/api/_v1/keras/__init__.py'"
      ]
     },
     "execution_count": 5,
     "metadata": {},
     "output_type": "execute_result"
    }
   ],
   "source": [
    "keras.__file__"
   ]
  },
  {
   "cell_type": "code",
   "execution_count": 9,
   "metadata": {},
   "outputs": [],
   "source": [
    "# 찾은 path를 cli를 통해 /usr/local/lib/python3.6/dist-packages/tensorflow/python/kera 폴더에 접근, find .|grep [대상]으로 검색하여 구조 확인"
   ]
  },
  {
   "cell_type": "code",
   "execution_count": 10,
   "metadata": {},
   "outputs": [],
   "source": [
    "### regularizers 를 찾아보자"
   ]
  },
  {
   "cell_type": "code",
   "execution_count": 11,
   "metadata": {},
   "outputs": [
    {
     "data": {
      "text/plain": [
       "'/usr/local/lib/python3.6/dist-packages/tensorflow/python/keras/api/_v1/keras/__init__.py'"
      ]
     },
     "execution_count": 11,
     "metadata": {},
     "output_type": "execute_result"
    }
   ],
   "source": [
    "keras.__file__"
   ]
  },
  {
   "cell_type": "code",
   "execution_count": 14,
   "metadata": {},
   "outputs": [],
   "source": [
    "!cd /usr/local/lib/python3.6/dist-packages/tensorflow/python/keras"
   ]
  },
  {
   "cell_type": "markdown",
   "metadata": {},
   "source": [
    "### 함수로 찾기"
   ]
  },
  {
   "cell_type": "code",
   "execution_count": 16,
   "metadata": {},
   "outputs": [
    {
     "data": {
      "text/plain": [
       "'/usr/local/lib/python3.6/dist-packages/tensorflow/python/keras/api/_v1/keras/__init__.py'"
      ]
     },
     "execution_count": 16,
     "metadata": {},
     "output_type": "execute_result"
    }
   ],
   "source": [
    "keras.__file__"
   ]
  },
  {
   "cell_type": "code",
   "execution_count": 17,
   "metadata": {},
   "outputs": [],
   "source": [
    "## activation 찾아보자"
   ]
  },
  {
   "cell_type": "code",
   "execution_count": 30,
   "metadata": {},
   "outputs": [],
   "source": [
    "from tensorflow.python.keras import activations"
   ]
  },
  {
   "cell_type": "code",
   "execution_count": 19,
   "metadata": {},
   "outputs": [],
   "source": [
    "## Batch Nomalize"
   ]
  },
  {
   "cell_type": "code",
   "execution_count": 29,
   "metadata": {},
   "outputs": [],
   "source": [
    "# help(keras.layers.BatchNormalization)\n",
    "model = models.Sequential()"
   ]
  },
  {
   "cell_type": "code",
   "execution_count": null,
   "metadata": {},
   "outputs": [],
   "source": [
    "model.add(Dense)"
   ]
  },
  {
   "cell_type": "markdown",
   "metadata": {},
   "source": [
    "## 5. Softmax\n",
    "- One hot Encoding 된 Output과 합계를 맞추려고\n",
    "'''\n",
    "layers1=layers.Dense(8, activation=\"\")\n",
    "'''"
   ]
  },
  {
   "cell_type": "code",
   "execution_count": 31,
   "metadata": {},
   "outputs": [],
   "source": [
    "from tensorflow.python.keras import activations"
   ]
  },
  {
   "cell_type": "code",
   "execution_count": 32,
   "metadata": {},
   "outputs": [
    {
     "name": "stdout",
     "output_type": "stream",
     "text": [
      "Help on function softmax in module tensorflow.python.keras.activations:\n",
      "\n",
      "softmax(x, axis=-1)\n",
      "    The softmax activation function transforms the outputs so that all values are in\n",
      "    \n",
      "    range (0, 1) and sum to 1. It is often used as the activation for the last\n",
      "    layer of a classification network because the result could be interpreted as\n",
      "    a probability distribution. The softmax of x is calculated by\n",
      "    exp(x)/tf.reduce_sum(exp(x)).\n",
      "    \n",
      "    Arguments:\n",
      "        x : Input tensor.\n",
      "        axis: Integer, axis along which the softmax normalization is applied.\n",
      "    \n",
      "    Returns:\n",
      "        Tensor, output of softmax transformation (all values are non-negative\n",
      "          and sum to 1).\n",
      "    \n",
      "    Raises:\n",
      "        ValueError: In case `dim(x) == 1`.\n",
      "\n"
     ]
    }
   ],
   "source": [
    "help(activations.softmax)"
   ]
  },
  {
   "cell_type": "markdown",
   "metadata": {},
   "source": [
    "## Batch Noralize\n",
    "- What? 평균을 0, 표준편차를 1로 바꾸기,\n",
    "- WHy? 너무 큰 입력 등을 빠르게 학승 가능\n",
    "'''\n",
    "layers1=???()\n",
    "'''"
   ]
  },
  {
   "cell_type": "code",
   "execution_count": 34,
   "metadata": {},
   "outputs": [],
   "source": [
    "from tensorflow.python.keras.layers import normalization"
   ]
  },
  {
   "cell_type": "code",
   "execution_count": 36,
   "metadata": {},
   "outputs": [],
   "source": [
    "# help(normalization.BatchNormalization)"
   ]
  },
  {
   "cell_type": "code",
   "execution_count": 37,
   "metadata": {},
   "outputs": [
    {
     "data": {
      "text/plain": [
       "'\\nfind ./  -iname \"*py\" |xargs grep -ni \"activation\" \\n'"
      ]
     },
     "execution_count": 37,
     "metadata": {},
     "output_type": "execute_result"
    }
   ],
   "source": [
    "## cf) 해당 path내에 있는 파일들에서 문자열 찾기\n",
    "'''\n",
    "find ./  -iname \"*py\" |xargs grep -ni \"activation\" \n",
    "'''"
   ]
  },
  {
   "cell_type": "code",
   "execution_count": null,
   "metadata": {},
   "outputs": [],
   "source": []
  }
 ],
 "metadata": {
  "kernelspec": {
   "display_name": "Python 3",
   "language": "python",
   "name": "python3"
  },
  "language_info": {
   "codemirror_mode": {
    "name": "ipython",
    "version": 3
   },
   "file_extension": ".py",
   "mimetype": "text/x-python",
   "name": "python",
   "nbconvert_exporter": "python",
   "pygments_lexer": "ipython3",
   "version": "3.6.8"
  }
 },
 "nbformat": 4,
 "nbformat_minor": 4
}
