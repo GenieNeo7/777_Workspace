{
 "cells": [
  {
   "cell_type": "markdown",
   "metadata": {},
   "source": [
    "AI에 겁먹을 필요 없다. 잘하기 위해서는 수학 특히 통계 등의 지식이 바탕이 되어야 한다고 알려져 있다. 틀리지는 않는 말이다. 현실 세계에서 성공?을 위해서는 좋은 대학을 나와야 한다가 일반적인 이야기이고 확율적으로 높은 사실이기는 하다. 하지만, 꼭 필수는 아니며 다른 방법도 많이 있다. AI도 그렇다. 현실세계 처럼 복잡하지는 않지만, 다양한 분야가 있고 수학 능력이 부족하다고해서 못하는 것이 아니다."
   ]
  },
  {
   "cell_type": "markdown",
   "metadata": {},
   "source": [
    "# 1. 머신러닝\n",
    "## 1.1 머신러닝 정의\n",
    "> - 머신러닝은 데이터에서부터 학습하도록 컴퓨터를 프로그래밍하는 과학(또는 예술) 이다.\n",
    "> - 머신러닝은 명시적인 프로그래밍 없이 컴퓨터가 학습하는 능력을 갖추게 하는 연구 분야다.\n",
    "> - 어떤 작업 T에 대한 컴퓨터 프로그램의 성능을 P로 측정했을 때 경험 E로 인해 성능이 향상됐다면, 이 컴퓨터 프로그램은 작업 T와 성능 측정 P에 대해 경험 E로 학습한 것이다.\n"
   ]
  },
  {
   "cell_type": "markdown",
   "metadata": {},
   "source": [
    "## 1.2 머신러닝 분류\n",
    "### 1.2.1 지도학습 (Supervised learning)\n",
    "- 알고리즘에 주입하는 훈련 데이터에 **레이블**이라는 원하는 답이 포함\n",
    "#### 1.2.1.1 Classification\n",
    "#### 1.2.1.2 Regression\n",
    "#### 1.2.1.3 주요 알고리즘\n",
    "    - k-최근접 이웃(k-nearest neighbors)\n",
    "    - 선형 회귀(liner regression)\n",
    "    - 로지스틱 회귀(logistic regression)\n",
    "    - 서포트 벡터 머신(Support vector machine / SVM)\n",
    "    - 결정 트리(decision tree) and 랜덤 포레스트(random forest)\n",
    "    - 신경망(neural networks)\n"
   ]
  },
  {
   "cell_type": "markdown",
   "metadata": {},
   "source": [
    "### 1.2.2 비지도학습 (Unsupervised learning)\n",
    "- 훈련 데이터에 레이블이 없음. 시스템이 아무런 도움 없이 학습해야 함\n",
    "### 1.2.3 강화학습 (Reinforcement learning)"
   ]
  },
  {
   "cell_type": "markdown",
   "metadata": {},
   "source": [
    "## 1.5 도전과제\n",
    "### 1.5.1 충분하지 않은 양의 훈련 데이터\n",
    "### 1.5.2 대표성 없는 훈련 데이터\n",
    "### 1.5.3 낮은 품질의 데이터\n",
    "### 1.5.4 관련 없는 특성\n",
    "### 1.5.5 훈련 데이터 과대적합\n",
    "- 모델을 단순하게 하고 과대적합의 위험을 감소시키기 위해 모델에 제약을 가하는 것을 규제(Regularization)라고 함"
   ]
  },
  {
   "cell_type": "markdown",
   "metadata": {},
   "source": []
  },
  {
   "cell_type": "code",
   "execution_count": null,
   "metadata": {},
   "outputs": [],
   "source": []
  }
 ],
 "metadata": {
  "kernelspec": {
   "display_name": "Python 3",
   "language": "python",
   "name": "python3"
  },
  "language_info": {
   "codemirror_mode": {
    "name": "ipython",
    "version": 3
   },
   "file_extension": ".py",
   "mimetype": "text/x-python",
   "name": "python",
   "nbconvert_exporter": "python",
   "pygments_lexer": "ipython3",
   "version": "3.8.3"
  }
 },
 "nbformat": 4,
 "nbformat_minor": 2
}
