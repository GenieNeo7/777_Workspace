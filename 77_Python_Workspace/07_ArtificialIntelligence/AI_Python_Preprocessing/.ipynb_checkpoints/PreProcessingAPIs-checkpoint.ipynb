{
 "cells": [
  {
   "cell_type": "markdown",
   "metadata": {},
   "source": [
    "## 5. Softmax\n",
    "- One hot Encoding 된 Output과 합계를 맞추려고\n",
    "'''\n",
    "layers1=layers.Dense(8, activation=\"\")\n",
    "'''\n",
    "\n",
    "- softmax함수를 preroce"
   ]
  },
  {
   "cell_type": "code",
   "execution_count": null,
   "metadata": {},
   "outputs": [],
   "source": []
  }
 ],
 "metadata": {
  "kernelspec": {
   "display_name": "Python 3",
   "language": "python",
   "name": "python3"
  },
  "language_info": {
   "codemirror_mode": {
    "name": "ipython",
    "version": 3
   },
   "file_extension": ".py",
   "mimetype": "text/x-python",
   "name": "python",
   "nbconvert_exporter": "python",
   "pygments_lexer": "ipython3",
   "version": "3.7.6"
  }
 },
 "nbformat": 4,
 "nbformat_minor": 4
}
