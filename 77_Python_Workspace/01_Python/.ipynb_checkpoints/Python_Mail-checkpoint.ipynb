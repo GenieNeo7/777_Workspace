{
 "cells": [
  {
   "cell_type": "markdown",
   "metadata": {},
   "source": [
    "# Mail 전송\n",
    "- smtplib 라이브러리를 통해 전송\n",
    "- 메일 전송은, 송신자에서 메일 서버, 메일서버에서 메일서버 간에는 SMTP 프로토콜이 사용 됨\n",
    "- 메일 전송은 25번 포트를 이용하는게 전통 방식, 후에 TLS : 587 SSL : 465 가 사용 됨\n",
    "- 메일 수신은 서버/로컬 저장 방식에 따라 POP3/IMAP3로 구분 됨\n",
    "\n",
    "## Protocol\n",
    "1. SSL / TLS\n",
    "- Sender to Server and Server to Server \n",
    "2. IMAP / POP3\n",
    "- local from server for read\n",
    "- depends on where data saved"
   ]
  },
  {
   "cell_type": "code",
   "execution_count": null,
   "metadata": {},
   "outputs": [],
   "source": [
    "# SSL \n",
    "# SSL은 connect및 ehlo 및 starttls 생략 가능?  이미 SMTP에 들어가 있다?\n",
    "# email library를 통해 깔끔하게 생성\n",
    "\n",
    "import smtplib\n",
    "from email.mime.text import MIMEText\n",
    "from email.mime.multipart import MIMEMultipart\n",
    "\n",
    "server = smtplib.SMTP_SSL('smtp.gmail.com',465)\n",
    "# server.connect('smtp.gmail.com',465)\n",
    "# server.ehlo()\n",
    "server.login(\"aceneo777@gmail.com\", '*10060115son1')\n",
    "\n",
    "msg = MIMEMultipart('alternative')\n",
    "msg['Subject'] = 'Test mail3'\n",
    "msg['From'] = \"aceneo777@gmail.com\"\n",
    "msg['To'] = \"aceneo777@gmail.com\"\n",
    "\n",
    "mail_html = \"<h1>Hi<h1>\"\n",
    "mail_html = MIMEText(mail_html, 'html')\n",
    "msg.attach(mail_html)\n",
    "server.sendmail(msg['From'],msg['To'].split(','),msg.as_string())\n",
    "server.quit()\n"
   ]
  },
  {
   "cell_type": "code",
   "execution_count": null,
   "metadata": {},
   "outputs": [],
   "source": [
    "# TLS\n",
    "\n",
    "import smtplib\n",
    "from email.mime.text import MIMEText\n",
    "from email.mime.multipart import MIMEMultipart\n",
    "\n",
    "server = smtplib.SMTP('smtp.gmail.com',587)\n",
    "server.ehlo()\n",
    "server.starttls()\n",
    "server.login(\"aceneo777@gmail.com\", '*10060115son1')\n",
    "\n",
    "msg = MIMEMultipart('alternative')\n",
    "msg['Subject'] = 'Test mail3'\n",
    "msg['From'] = \"aceneo777@gmail.com\"\n",
    "msg['To'] = \"aceneo777@gmail.com\"\n",
    "\n",
    "mail_html = \"<h1>Hi<h1>\"\n",
    "mail_html = MIMEText(mail_html, 'html')\n",
    "msg.attach(mail_html)\n",
    "server.sendmail(msg['From'],msg['To'].split(','),msg.as_string())\n",
    "server.quit()\n"
   ]
  },
  {
   "cell_type": "code",
   "execution_count": null,
   "metadata": {},
   "outputs": [],
   "source": [
    "# Port 25\n",
    "\n",
    "import smtplib\n",
    "from email.mime.text import MIMEText\n",
    "from email.mime.multipart import MIMEMultipart\n",
    "\n",
    "server = smtplib.SMTP('smtp.gmail.com', 25)\n",
    "server.ehlo()\n",
    "server.starttls()\n",
    "server.login(\"aceneo777@gmail.com\", '*10060115son1')\n",
    "\n",
    "msg = MIMEMultipart('alternative')\n",
    "msg['Subject'] = 'Test mail3'\n",
    "msg['From'] = \"aceneo777@gmail.com\"\n",
    "msg['To'] = \"aceneo777@gmail.com\"\n",
    "\n",
    "mail_html = \"<h1>Hi<h1>\"\n",
    "mail_html = MIMEText(mail_html, 'html')\n",
    "msg.attach(mail_html)\n",
    "server.sendmail(msg['From'],msg['To'].split(','),msg.as_string())\n",
    "server.quit()\n",
    "\n"
   ]
  },
  {
   "cell_type": "code",
   "execution_count": null,
   "metadata": {},
   "outputs": [],
   "source": [
    "# exchange mail server"
   ]
  },
  {
   "cell_type": "code",
   "execution_count": 72,
   "metadata": {
    "scrolled": false
   },
   "outputs": [
    {
     "name": "stderr",
     "output_type": "stream",
     "text": [
      "Failed to get locale (unknown locale: UTF-8)\n"
     ]
    },
    {
     "ename": "AutoDiscoverFailed",
     "evalue": "All steps in the autodiscover protocol failed for email 'ultimateneo@kt.com'. If you think this is an error, consider doing an official test at https://testconnectivity.microsoft.com",
     "output_type": "error",
     "traceback": [
      "\u001b[0;31m---------------------------------------------------------------------------\u001b[0m",
      "\u001b[0;31mAutoDiscoverFailed\u001b[0m                        Traceback (most recent call last)",
      "\u001b[0;32m<ipython-input-72-859f6a97a423>\u001b[0m in \u001b[0;36m<module>\u001b[0;34m\u001b[0m\n\u001b[1;32m     12\u001b[0m     \u001b[0mconfig\u001b[0m \u001b[0;34m=\u001b[0m \u001b[0mconfig\u001b[0m\u001b[0;34m,\u001b[0m\u001b[0;34m\u001b[0m\u001b[0;34m\u001b[0m\u001b[0m\n\u001b[1;32m     13\u001b[0m     \u001b[0mautodiscover\u001b[0m\u001b[0;34m=\u001b[0m\u001b[0;32mTrue\u001b[0m\u001b[0;34m,\u001b[0m\u001b[0;34m\u001b[0m\u001b[0;34m\u001b[0m\u001b[0m\n\u001b[0;32m---> 14\u001b[0;31m     access_type=DELEGATE)\n\u001b[0m",
      "\u001b[0;32m~/anaconda3/lib/python3.7/site-packages/exchangelib/account.py\u001b[0m in \u001b[0;36m__init__\u001b[0;34m(self, primary_smtp_address, fullname, access_type, autodiscover, credentials, config, locale, default_timezone)\u001b[0m\n\u001b[1;32m    115\u001b[0m                 \u001b[0mretry_policy\u001b[0m\u001b[0;34m,\u001b[0m \u001b[0mauth_type\u001b[0m \u001b[0;34m=\u001b[0m \u001b[0;32mNone\u001b[0m\u001b[0;34m,\u001b[0m \u001b[0;32mNone\u001b[0m\u001b[0;34m\u001b[0m\u001b[0;34m\u001b[0m\u001b[0m\n\u001b[1;32m    116\u001b[0m             self.ad_response, self.protocol = discover(\n\u001b[0;32m--> 117\u001b[0;31m                 \u001b[0memail\u001b[0m\u001b[0;34m=\u001b[0m\u001b[0mprimary_smtp_address\u001b[0m\u001b[0;34m,\u001b[0m \u001b[0mcredentials\u001b[0m\u001b[0;34m=\u001b[0m\u001b[0mcredentials\u001b[0m\u001b[0;34m,\u001b[0m \u001b[0mauth_type\u001b[0m\u001b[0;34m=\u001b[0m\u001b[0mauth_type\u001b[0m\u001b[0;34m,\u001b[0m \u001b[0mretry_policy\u001b[0m\u001b[0;34m=\u001b[0m\u001b[0mretry_policy\u001b[0m\u001b[0;34m\u001b[0m\u001b[0;34m\u001b[0m\u001b[0m\n\u001b[0m\u001b[1;32m    118\u001b[0m             )\n\u001b[1;32m    119\u001b[0m             \u001b[0mprimary_smtp_address\u001b[0m \u001b[0;34m=\u001b[0m \u001b[0mself\u001b[0m\u001b[0;34m.\u001b[0m\u001b[0mad_response\u001b[0m\u001b[0;34m.\u001b[0m\u001b[0mautodiscover_smtp_address\u001b[0m\u001b[0;34m\u001b[0m\u001b[0;34m\u001b[0m\u001b[0m\n",
      "\u001b[0;32m~/anaconda3/lib/python3.7/site-packages/exchangelib/autodiscover/discovery.py\u001b[0m in \u001b[0;36mdiscover\u001b[0;34m(email, credentials, auth_type, retry_policy)\u001b[0m\n\u001b[1;32m     22\u001b[0m \u001b[0;32mdef\u001b[0m \u001b[0mdiscover\u001b[0m\u001b[0;34m(\u001b[0m\u001b[0memail\u001b[0m\u001b[0;34m,\u001b[0m \u001b[0mcredentials\u001b[0m\u001b[0;34m=\u001b[0m\u001b[0;32mNone\u001b[0m\u001b[0;34m,\u001b[0m \u001b[0mauth_type\u001b[0m\u001b[0;34m=\u001b[0m\u001b[0;32mNone\u001b[0m\u001b[0;34m,\u001b[0m \u001b[0mretry_policy\u001b[0m\u001b[0;34m=\u001b[0m\u001b[0;32mNone\u001b[0m\u001b[0;34m)\u001b[0m\u001b[0;34m:\u001b[0m\u001b[0;34m\u001b[0m\u001b[0;34m\u001b[0m\u001b[0m\n\u001b[1;32m     23\u001b[0m     return Autodiscovery(\n\u001b[0;32m---> 24\u001b[0;31m         \u001b[0memail\u001b[0m\u001b[0;34m=\u001b[0m\u001b[0memail\u001b[0m\u001b[0;34m,\u001b[0m \u001b[0mcredentials\u001b[0m\u001b[0;34m=\u001b[0m\u001b[0mcredentials\u001b[0m\u001b[0;34m,\u001b[0m \u001b[0mauth_type\u001b[0m\u001b[0;34m=\u001b[0m\u001b[0mauth_type\u001b[0m\u001b[0;34m,\u001b[0m \u001b[0mretry_policy\u001b[0m\u001b[0;34m=\u001b[0m\u001b[0mretry_policy\u001b[0m\u001b[0;34m\u001b[0m\u001b[0;34m\u001b[0m\u001b[0m\n\u001b[0m\u001b[1;32m     25\u001b[0m     ).discover()\n\u001b[1;32m     26\u001b[0m \u001b[0;34m\u001b[0m\u001b[0m\n",
      "\u001b[0;32m~/anaconda3/lib/python3.7/site-packages/exchangelib/autodiscover/discovery.py\u001b[0m in \u001b[0;36mdiscover\u001b[0;34m(self)\u001b[0m\n\u001b[1;32m    117\u001b[0m             \u001b[0;32melse\u001b[0m\u001b[0;34m:\u001b[0m\u001b[0;34m\u001b[0m\u001b[0;34m\u001b[0m\u001b[0m\n\u001b[1;32m    118\u001b[0m                 \u001b[0;31m# This will cache the result\u001b[0m\u001b[0;34m\u001b[0m\u001b[0;34m\u001b[0m\u001b[0;34m\u001b[0m\u001b[0m\n\u001b[0;32m--> 119\u001b[0;31m                 \u001b[0mad_response\u001b[0m \u001b[0;34m=\u001b[0m \u001b[0mself\u001b[0m\u001b[0;34m.\u001b[0m\u001b[0m_step_1\u001b[0m\u001b[0;34m(\u001b[0m\u001b[0mhostname\u001b[0m\u001b[0;34m=\u001b[0m\u001b[0mdomain\u001b[0m\u001b[0;34m)\u001b[0m\u001b[0;34m\u001b[0m\u001b[0;34m\u001b[0m\u001b[0m\n\u001b[0m\u001b[1;32m    120\u001b[0m \u001b[0;34m\u001b[0m\u001b[0m\n\u001b[1;32m    121\u001b[0m         \u001b[0mlog\u001b[0m\u001b[0;34m.\u001b[0m\u001b[0mdebug\u001b[0m\u001b[0;34m(\u001b[0m\u001b[0;34m'Released autodiscover_cache_lock'\u001b[0m\u001b[0;34m)\u001b[0m\u001b[0;34m\u001b[0m\u001b[0;34m\u001b[0m\u001b[0m\n",
      "\u001b[0;32m~/anaconda3/lib/python3.7/site-packages/exchangelib/autodiscover/discovery.py\u001b[0m in \u001b[0;36m_step_1\u001b[0;34m(self, hostname)\u001b[0m\n\u001b[1;32m    380\u001b[0m             \u001b[0;32mreturn\u001b[0m \u001b[0mself\u001b[0m\u001b[0;34m.\u001b[0m\u001b[0m_step_5\u001b[0m\u001b[0;34m(\u001b[0m\u001b[0mad\u001b[0m\u001b[0;34m=\u001b[0m\u001b[0mad\u001b[0m\u001b[0;34m)\u001b[0m\u001b[0;34m\u001b[0m\u001b[0;34m\u001b[0m\u001b[0m\n\u001b[1;32m    381\u001b[0m         \u001b[0;32melse\u001b[0m\u001b[0;34m:\u001b[0m\u001b[0;34m\u001b[0m\u001b[0;34m\u001b[0m\u001b[0m\n\u001b[0;32m--> 382\u001b[0;31m             \u001b[0;32mreturn\u001b[0m \u001b[0mself\u001b[0m\u001b[0;34m.\u001b[0m\u001b[0m_step_2\u001b[0m\u001b[0;34m(\u001b[0m\u001b[0mhostname\u001b[0m\u001b[0;34m=\u001b[0m\u001b[0mhostname\u001b[0m\u001b[0;34m)\u001b[0m\u001b[0;34m\u001b[0m\u001b[0;34m\u001b[0m\u001b[0m\n\u001b[0m\u001b[1;32m    383\u001b[0m \u001b[0;34m\u001b[0m\u001b[0m\n\u001b[1;32m    384\u001b[0m     \u001b[0;32mdef\u001b[0m \u001b[0m_step_2\u001b[0m\u001b[0;34m(\u001b[0m\u001b[0mself\u001b[0m\u001b[0;34m,\u001b[0m \u001b[0mhostname\u001b[0m\u001b[0;34m)\u001b[0m\u001b[0;34m:\u001b[0m\u001b[0;34m\u001b[0m\u001b[0;34m\u001b[0m\u001b[0m\n",
      "\u001b[0;32m~/anaconda3/lib/python3.7/site-packages/exchangelib/autodiscover/discovery.py\u001b[0m in \u001b[0;36m_step_2\u001b[0;34m(self, hostname)\u001b[0m\n\u001b[1;32m    398\u001b[0m             \u001b[0;32mreturn\u001b[0m \u001b[0mself\u001b[0m\u001b[0;34m.\u001b[0m\u001b[0m_step_5\u001b[0m\u001b[0;34m(\u001b[0m\u001b[0mad\u001b[0m\u001b[0;34m=\u001b[0m\u001b[0mad\u001b[0m\u001b[0;34m)\u001b[0m\u001b[0;34m\u001b[0m\u001b[0;34m\u001b[0m\u001b[0m\n\u001b[1;32m    399\u001b[0m         \u001b[0;32melse\u001b[0m\u001b[0;34m:\u001b[0m\u001b[0;34m\u001b[0m\u001b[0;34m\u001b[0m\u001b[0m\n\u001b[0;32m--> 400\u001b[0;31m             \u001b[0;32mreturn\u001b[0m \u001b[0mself\u001b[0m\u001b[0;34m.\u001b[0m\u001b[0m_step_3\u001b[0m\u001b[0;34m(\u001b[0m\u001b[0mhostname\u001b[0m\u001b[0;34m=\u001b[0m\u001b[0mhostname\u001b[0m\u001b[0;34m)\u001b[0m\u001b[0;34m\u001b[0m\u001b[0;34m\u001b[0m\u001b[0m\n\u001b[0m\u001b[1;32m    401\u001b[0m \u001b[0;34m\u001b[0m\u001b[0m\n\u001b[1;32m    402\u001b[0m     \u001b[0;32mdef\u001b[0m \u001b[0m_step_3\u001b[0m\u001b[0;34m(\u001b[0m\u001b[0mself\u001b[0m\u001b[0;34m,\u001b[0m \u001b[0mhostname\u001b[0m\u001b[0;34m)\u001b[0m\u001b[0;34m:\u001b[0m\u001b[0;34m\u001b[0m\u001b[0;34m\u001b[0m\u001b[0m\n",
      "\u001b[0;32m~/anaconda3/lib/python3.7/site-packages/exchangelib/autodiscover/discovery.py\u001b[0m in \u001b[0;36m_step_3\u001b[0;34m(self, hostname)\u001b[0m\n\u001b[1;32m    434\u001b[0m                 \u001b[0;32mreturn\u001b[0m \u001b[0mself\u001b[0m\u001b[0;34m.\u001b[0m\u001b[0m_step_4\u001b[0m\u001b[0;34m(\u001b[0m\u001b[0mhostname\u001b[0m\u001b[0;34m=\u001b[0m\u001b[0mhostname\u001b[0m\u001b[0;34m)\u001b[0m\u001b[0;34m\u001b[0m\u001b[0;34m\u001b[0m\u001b[0m\n\u001b[1;32m    435\u001b[0m         \u001b[0;32melse\u001b[0m\u001b[0;34m:\u001b[0m\u001b[0;34m\u001b[0m\u001b[0;34m\u001b[0m\u001b[0m\n\u001b[0;32m--> 436\u001b[0;31m             \u001b[0;32mreturn\u001b[0m \u001b[0mself\u001b[0m\u001b[0;34m.\u001b[0m\u001b[0m_step_4\u001b[0m\u001b[0;34m(\u001b[0m\u001b[0mhostname\u001b[0m\u001b[0;34m=\u001b[0m\u001b[0mhostname\u001b[0m\u001b[0;34m)\u001b[0m\u001b[0;34m\u001b[0m\u001b[0;34m\u001b[0m\u001b[0m\n\u001b[0m\u001b[1;32m    437\u001b[0m \u001b[0;34m\u001b[0m\u001b[0m\n\u001b[1;32m    438\u001b[0m     \u001b[0;32mdef\u001b[0m \u001b[0m_step_4\u001b[0m\u001b[0;34m(\u001b[0m\u001b[0mself\u001b[0m\u001b[0;34m,\u001b[0m \u001b[0mhostname\u001b[0m\u001b[0;34m)\u001b[0m\u001b[0;34m:\u001b[0m\u001b[0;34m\u001b[0m\u001b[0;34m\u001b[0m\u001b[0m\n",
      "\u001b[0;32m~/anaconda3/lib/python3.7/site-packages/exchangelib/autodiscover/discovery.py\u001b[0m in \u001b[0;36m_step_4\u001b[0;34m(self, hostname)\u001b[0m\n\u001b[1;32m    461\u001b[0m             \u001b[0msrv_host\u001b[0m \u001b[0;34m=\u001b[0m \u001b[0;32mNone\u001b[0m\u001b[0;34m\u001b[0m\u001b[0;34m\u001b[0m\u001b[0m\n\u001b[1;32m    462\u001b[0m         \u001b[0;32mif\u001b[0m \u001b[0;32mnot\u001b[0m \u001b[0msrv_host\u001b[0m\u001b[0;34m:\u001b[0m\u001b[0;34m\u001b[0m\u001b[0;34m\u001b[0m\u001b[0m\n\u001b[0;32m--> 463\u001b[0;31m             \u001b[0;32mreturn\u001b[0m \u001b[0mself\u001b[0m\u001b[0;34m.\u001b[0m\u001b[0m_step_6\u001b[0m\u001b[0;34m(\u001b[0m\u001b[0;34m)\u001b[0m\u001b[0;34m\u001b[0m\u001b[0;34m\u001b[0m\u001b[0m\n\u001b[0m\u001b[1;32m    464\u001b[0m         \u001b[0;32melse\u001b[0m\u001b[0;34m:\u001b[0m\u001b[0;34m\u001b[0m\u001b[0;34m\u001b[0m\u001b[0m\n\u001b[1;32m    465\u001b[0m             \u001b[0mredirect_url\u001b[0m \u001b[0;34m=\u001b[0m \u001b[0;34m'https://%s/Autodiscover/Autodiscover.xml'\u001b[0m \u001b[0;34m%\u001b[0m \u001b[0msrv_host\u001b[0m\u001b[0;34m\u001b[0m\u001b[0;34m\u001b[0m\u001b[0m\n",
      "\u001b[0;32m~/anaconda3/lib/python3.7/site-packages/exchangelib/autodiscover/discovery.py\u001b[0m in \u001b[0;36m_step_6\u001b[0;34m(self)\u001b[0m\n\u001b[1;32m    521\u001b[0m         raise AutoDiscoverFailed(\n\u001b[1;32m    522\u001b[0m             \u001b[0;34m'All steps in the autodiscover protocol failed for email %r. If you think this is an error, consider doing '\u001b[0m\u001b[0;34m\u001b[0m\u001b[0;34m\u001b[0m\u001b[0m\n\u001b[0;32m--> 523\u001b[0;31m             'an official test at https://testconnectivity.microsoft.com' % self.email)\n\u001b[0m\u001b[1;32m    524\u001b[0m \u001b[0;34m\u001b[0m\u001b[0m\n\u001b[1;32m    525\u001b[0m \u001b[0;34m\u001b[0m\u001b[0m\n",
      "\u001b[0;31mAutoDiscoverFailed\u001b[0m: All steps in the autodiscover protocol failed for email 'ultimateneo@kt.com'. If you think this is an error, consider doing an official test at https://testconnectivity.microsoft.com"
     ]
    }
   ],
   "source": [
    "from exchangelib import DELEGATE, Account, Credentials\n",
    "\n",
    "creds = Credentials(\n",
    "    username='corp\\82022282', \n",
    "    password='*20190626s1')\n",
    "\n",
    "config = Configuration(server='groupmail.kt.com', credentials=creds)\n",
    "\n",
    "account = Account(\n",
    "    primary_smtp_address='ultimateneo@kt.com',\n",
    "    credentials=creds,\n",
    "    config = config,\n",
    "    autodiscover=True, \n",
    "    access_type=DELEGATE)\n"
   ]
  }
 ],
 "metadata": {
  "kernelspec": {
   "display_name": "Python 3",
   "language": "python",
   "name": "python3"
  },
  "language_info": {
   "codemirror_mode": {
    "name": "ipython",
    "version": 3
   },
   "file_extension": ".py",
   "mimetype": "text/x-python",
   "name": "python",
   "nbconvert_exporter": "python",
   "pygments_lexer": "ipython3",
   "version": "3.7.1"
  }
 },
 "nbformat": 4,
 "nbformat_minor": 2
}
