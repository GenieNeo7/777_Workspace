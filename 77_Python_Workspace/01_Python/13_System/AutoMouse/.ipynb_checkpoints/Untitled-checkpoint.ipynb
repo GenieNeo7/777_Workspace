{
 "cells": [
  {
   "cell_type": "code",
   "execution_count": 1,
   "metadata": {
    "scrolled": true
   },
   "outputs": [
    {
     "name": "stdout",
     "output_type": "stream",
     "text": [
      "Requirement already satisfied: pyautogui in c:\\users\\neo\\anaconda3\\lib\\site-packages (0.9.48)\n",
      "Processing c:\\users\\neo\\appdata\\local\\pip\\cache\\wheels\\a7\\20\\2c\\7ba9c02521960b138ff4a635fced58cb7a3bc3cc99d52f56b5\\pygetwindow-0.0.8-cp37-none-any.whl\n",
      "Requirement already satisfied: pymsgbox in c:\\users\\neo\\anaconda3\\lib\\site-packages (from pyautogui) (1.0.7)\n",
      "Requirement already satisfied: pyscreeze>=0.1.21 in c:\\users\\neo\\anaconda3\\lib\\site-packages (from pyautogui) (0.1.26)\n",
      "Requirement already satisfied: PyTweening>=1.0.1 in c:\\users\\neo\\anaconda3\\lib\\site-packages (from pyautogui) (1.0.3)\n",
      "Processing c:\\users\\neo\\appdata\\local\\pip\\cache\\wheels\\eb\\81\\32\\4d7b345486dbc3f3ee45316f8f4cbdebafc1b5d1da3353b529\\mouseinfo-0.1.3-cp37-none-any.whl\n",
      "Processing c:\\users\\neo\\appdata\\local\\pip\\cache\\wheels\\3e\\61\\83\\8fd1478e984f7378e57972f5fd9bb0dbffc349fefc9efa5bf9\\pyrect-0.1.4-py2.py3-none-any.whl\n",
      "Requirement already satisfied: Pillow>=5.2.0; python_version == \"3.7\" in c:\\users\\neo\\anaconda3\\lib\\site-packages (from pyscreeze>=0.1.21->pyautogui) (7.0.0)\n",
      "Processing c:\\users\\neo\\appdata\\local\\pip\\cache\\wheels\\b2\\ac\\0a\\b784f0afe26eaf52e88a7e15c7369090deea0354fa1c6fc689\\pyperclip-1.8.0-cp37-none-any.whl\n",
      "Installing collected packages: pyrect, pygetwindow, pyperclip, mouseinfo\n",
      "Successfully installed mouseinfo-0.1.3 pygetwindow-0.0.8 pyperclip-1.8.0 pyrect-0.1.4\n"
     ]
    }
   ],
   "source": [
    "!pip install pyautogui"
   ]
  },
  {
   "cell_type": "code",
   "execution_count": 1,
   "metadata": {},
   "outputs": [
    {
     "name": "stdout",
     "output_type": "stream",
     "text": [
      "test\n"
     ]
    }
   ],
   "source": [
    "print('test')"
   ]
  },
  {
   "cell_type": "code",
   "execution_count": 1,
   "metadata": {},
   "outputs": [],
   "source": [
    "import pyautogui\n",
    "import time"
   ]
  },
  {
   "cell_type": "code",
   "execution_count": 40,
   "metadata": {},
   "outputs": [],
   "source": [
    "for i in range(1):\n",
    "    time.sleep(2)\n",
    "    for j in range(17):\n",
    "        for k in range(75):\n",
    "            pyautogui.moveTo(120 + (j * 70), 200 + (k * 10))  \n",
    "            pyautogui.click(interval=0.1)\n",
    "            pyautogui.click(interval=0.1)\n",
    "    pyautogui.moveTo(1250, 970)  \n",
    "    pyautogui.moveTo(1220, 970)  \n",
    "    pyautogui.click(interval=0.5)\n",
    "    pyautogui.click(interval=0.5)"
   ]
  },
  {
   "cell_type": "code",
   "execution_count": 39,
   "metadata": {},
   "outputs": [],
   "source": [
    "    time.sleep(2)\n",
    "    pyautogui.moveTo(695, 445)  \n",
    "    pyautogui.click(interval=0.5)\n",
    "#     pyautogui.click(interval=0.5)\n",
    "    pyautogui.moveTo(110, 660)  \n",
    "    pyautogui.click(interval=0.5)\n",
    "    pyautogui.moveTo(1310, 660)  \n",
    "    pyautogui.click(interval=0.5)"
   ]
  },
  {
   "cell_type": "code",
   "execution_count": 40,
   "metadata": {},
   "outputs": [
    {
     "ename": "KeyboardInterrupt",
     "evalue": "",
     "output_type": "error",
     "traceback": [
      "\u001b[1;31m---------------------------------------------------------------------------\u001b[0m",
      "\u001b[1;31mKeyboardInterrupt\u001b[0m                         Traceback (most recent call last)",
      "\u001b[1;32m<ipython-input-40-0843fa05f283>\u001b[0m in \u001b[0;36m<module>\u001b[1;34m\u001b[0m\n\u001b[0;32m      8\u001b[0m     \u001b[0mpyautogui\u001b[0m\u001b[1;33m.\u001b[0m\u001b[0mmoveTo\u001b[0m\u001b[1;33m(\u001b[0m\u001b[1;36m1310\u001b[0m\u001b[1;33m,\u001b[0m \u001b[1;36m660\u001b[0m\u001b[1;33m)\u001b[0m\u001b[1;33m\u001b[0m\u001b[1;33m\u001b[0m\u001b[0m\n\u001b[0;32m      9\u001b[0m     \u001b[0mpyautogui\u001b[0m\u001b[1;33m.\u001b[0m\u001b[0mclick\u001b[0m\u001b[1;33m(\u001b[0m\u001b[0minterval\u001b[0m\u001b[1;33m=\u001b[0m\u001b[1;36m0.5\u001b[0m\u001b[1;33m)\u001b[0m\u001b[1;33m\u001b[0m\u001b[1;33m\u001b[0m\u001b[0m\n\u001b[1;32m---> 10\u001b[1;33m     \u001b[0mtime\u001b[0m\u001b[1;33m.\u001b[0m\u001b[0msleep\u001b[0m\u001b[1;33m(\u001b[0m\u001b[1;36m15\u001b[0m\u001b[1;33m)\u001b[0m\u001b[1;33m\u001b[0m\u001b[1;33m\u001b[0m\u001b[0m\n\u001b[0m",
      "\u001b[1;31mKeyboardInterrupt\u001b[0m: "
     ]
    }
   ],
   "source": [
    "for i in range(300):\n",
    "    time.sleep(2)\n",
    "    pyautogui.moveTo(695, 445)  \n",
    "    pyautogui.click(interval=0.5)\n",
    "#     pyautogui.click(interval=0.5)\n",
    "    pyautogui.moveTo(110, 660)  \n",
    "    pyautogui.click(interval=0.5)\n",
    "    pyautogui.moveTo(1310, 660)  \n",
    "    pyautogui.click(interval=0.5)\n",
    "    time.sleep(15)"
   ]
  },
  {
   "cell_type": "code",
   "execution_count": 2,
   "metadata": {},
   "outputs": [
    {
     "name": "stdout",
     "output_type": "stream",
     "text": [
      "       dates  status\n",
      "0 2019-09-02  Opened\n",
      "1 2019-09-13  Opened\n",
      "2 2019-09-21  Closed\n",
      "dates     datetime64[ns]\n",
      "status            object\n",
      "dtype: object\n"
     ]
    }
   ],
   "source": [
    "import pandas as pd\n",
    "\n",
    "values = {'dates':  ['20190902','20190913','20190921'],\n",
    "          'status': ['Opened','Opened','Closed']\n",
    "          }\n",
    "\n",
    "df = pd.DataFrame(values, columns = ['dates','status'])\n",
    "\n",
    "df['dates'] = pd.to_datetime(df['dates'], format='%Y%m%d')\n",
    "\n",
    "print (df)\n",
    "print (df.dtypes)"
   ]
  },
  {
   "cell_type": "code",
   "execution_count": 3,
   "metadata": {},
   "outputs": [],
   "source": [
    "str = '17/12/13'"
   ]
  },
  {
   "cell_type": "code",
   "execution_count": 7,
   "metadata": {},
   "outputs": [
    {
     "data": {
      "text/plain": [
       "Timestamp('2017-12-13 00:00:00')"
      ]
     },
     "execution_count": 7,
     "metadata": {},
     "output_type": "execute_result"
    }
   ],
   "source": [
    "pd.to_datetime(str, format='%y/%m/%d')"
   ]
  },
  {
   "cell_type": "code",
   "execution_count": null,
   "metadata": {},
   "outputs": [],
   "source": []
  }
 ],
 "metadata": {
  "kernelspec": {
   "display_name": "Python 3",
   "language": "python",
   "name": "python3"
  },
  "language_info": {
   "codemirror_mode": {
    "name": "ipython",
    "version": 3
   },
   "file_extension": ".py",
   "mimetype": "text/x-python",
   "name": "python",
   "nbconvert_exporter": "python",
   "pygments_lexer": "ipython3",
   "version": "3.7.3"
  }
 },
 "nbformat": 4,
 "nbformat_minor": 2
}
