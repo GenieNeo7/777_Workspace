{
 "cells": [
  {
   "cell_type": "code",
   "execution_count": 1,
   "metadata": {},
   "outputs": [
    {
     "name": "stdout",
     "output_type": "stream",
     "text": [
      "Requirement already satisfied: pyautogui in c:\\users\\neo\\anaconda3\\lib\\site-packages (0.9.48)\n",
      "Processing c:\\users\\neo\\appdata\\local\\pip\\cache\\wheels\\a7\\20\\2c\\7ba9c02521960b138ff4a635fced58cb7a3bc3cc99d52f56b5\\pygetwindow-0.0.8-cp37-none-any.whl\n",
      "Requirement already satisfied: pymsgbox in c:\\users\\neo\\anaconda3\\lib\\site-packages (from pyautogui) (1.0.7)\n",
      "Requirement already satisfied: pyscreeze>=0.1.21 in c:\\users\\neo\\anaconda3\\lib\\site-packages (from pyautogui) (0.1.26)\n",
      "Requirement already satisfied: PyTweening>=1.0.1 in c:\\users\\neo\\anaconda3\\lib\\site-packages (from pyautogui) (1.0.3)\n",
      "Processing c:\\users\\neo\\appdata\\local\\pip\\cache\\wheels\\eb\\81\\32\\4d7b345486dbc3f3ee45316f8f4cbdebafc1b5d1da3353b529\\mouseinfo-0.1.3-cp37-none-any.whl\n",
      "Processing c:\\users\\neo\\appdata\\local\\pip\\cache\\wheels\\3e\\61\\83\\8fd1478e984f7378e57972f5fd9bb0dbffc349fefc9efa5bf9\\pyrect-0.1.4-py2.py3-none-any.whl\n",
      "Requirement already satisfied: Pillow>=5.2.0; python_version == \"3.7\" in c:\\users\\neo\\anaconda3\\lib\\site-packages (from pyscreeze>=0.1.21->pyautogui) (7.0.0)\n",
      "Processing c:\\users\\neo\\appdata\\local\\pip\\cache\\wheels\\b2\\ac\\0a\\b784f0afe26eaf52e88a7e15c7369090deea0354fa1c6fc689\\pyperclip-1.8.0-cp37-none-any.whl\n",
      "Installing collected packages: pyrect, pygetwindow, pyperclip, mouseinfo\n",
      "Successfully installed mouseinfo-0.1.3 pygetwindow-0.0.8 pyperclip-1.8.0 pyrect-0.1.4\n"
     ]
    }
   ],
   "source": [
    "!pip install pyautogui"
   ]
  },
  {
   "cell_type": "code",
   "execution_count": 4,
   "metadata": {},
   "outputs": [],
   "source": [
    "import pyautogui\n",
    "import time"
   ]
  },
  {
   "cell_type": "code",
   "execution_count": null,
   "metadata": {},
   "outputs": [],
   "source": [
    "screenWidth, screenHeight = pyautogui.size() # Returns two integers, the width and height of the screen. (The primary monitor, in multi-monitor setups.)\n",
    "currentMouseX, currentMouseY = pyautogui.position() # Returns two integers, the x and y of the mouse cursor's current position.\n",
    "pyautogui.moveTo(700, 500) # Move the mouse to the x, y coordinates 100, 150.\n",
    "pyautogui.click() # Click the mouse at its current location.\n",
    "pyautogui.click(200, 220) # Click the mouse at the x, y coordinates 200, 220.\n",
    "pyautogui.move(None, 10)  # Move mouse 10 pixels down, that is, move the mouse relative to its current position.\n",
    "pyautogui.doubleClick() # Double click the mouse at the\n",
    "time.sleep(2)"
   ]
  },
  {
   "cell_type": "code",
   "execution_count": null,
   "metadata": {},
   "outputs": [],
   "source": []
  }
 ],
 "metadata": {
  "kernelspec": {
   "display_name": "Python 3",
   "language": "python",
   "name": "python3"
  },
  "language_info": {
   "codemirror_mode": {
    "name": "ipython",
    "version": 3
   },
   "file_extension": ".py",
   "mimetype": "text/x-python",
   "name": "python",
   "nbconvert_exporter": "python",
   "pygments_lexer": "ipython3",
   "version": "3.7.6"
  }
 },
 "nbformat": 4,
 "nbformat_minor": 2
}
