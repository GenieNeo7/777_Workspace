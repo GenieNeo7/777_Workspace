{
 "cells": [
  {
   "cell_type": "markdown",
   "metadata": {},
   "source": [
    "# Mail 전송\n",
    "- smtplib 라이브러리를 통해 전송\n",
    "- 메일 전송은, 송신자에서 메일 서버, 메일서버에서 메일서버 간에는 SMTP 프로토콜이 사용 됨\n",
    "- 메일 전송은 25번 포트를 이용하는게 전통 방식, 후에 TLS : 587 SSL : 465 가 사용 됨\n",
    "- 메일 수신은 서버/로컬 저장 방식에 따라 POP3/IMAP3로 구분 됨\n",
    "\n",
    "## Protocol\n",
    "1. SSL / TLS\n",
    "- Sender to Server and Server to Server \n",
    "2. IMAP / POP3\n",
    "- local from server for read\n",
    "- depends on where data saved"
   ]
  },
  {
   "cell_type": "code",
   "execution_count": 6,
   "metadata": {},
   "outputs": [
    {
     "data": {
      "text/plain": [
       "(221, b'2.0.0 closing connection ev10sm1689108pjb.35 - gsmtp')"
      ]
     },
     "execution_count": 6,
     "metadata": {},
     "output_type": "execute_result"
    }
   ],
   "source": [
    "# SSL \n",
    "# SSL은 connect및 ehlo 및 starttls 생략 가능?  이미 SMTP에 들어가 있다?\n",
    "# email library를 통해 깔끔하게 생성\n",
    "\n",
    "import smtplib\n",
    "from email.mime.text import MIMEText\n",
    "from email.mime.multipart import MIMEMultipart\n",
    "\n",
    "server = smtplib.SMTP_SSL('smtp.gmail.com',465)\n",
    "# server.connect('smtp.gmail.com',465)\n",
    "# server.ehlo()\n",
    "server.login(\"aceneo777@gmail.com\", '*10060115son1')\n",
    "\n",
    "msg = MIMEMultipart('alternative')\n",
    "msg['Subject'] = 'Test mail3'\n",
    "msg['From'] = \"aceneo777@gmail.com\"\n",
    "msg['To'] = \"aceneo777@gmail.com\"\n",
    "\n",
    "mail_html = \"<h1>Hi<h1>\"\n",
    "mail_html = MIMEText(mail_html, 'html')\n",
    "msg.attach(mail_html)\n",
    "server.sendmail(msg['From'],msg['To'].split(','),msg.as_string())\n",
    "server.quit()\n"
   ]
  },
  {
   "cell_type": "code",
   "execution_count": 7,
   "metadata": {},
   "outputs": [
    {
     "data": {
      "text/plain": [
       "(221, b'2.0.0 closing connection h11sm2178736pfq.101 - gsmtp')"
      ]
     },
     "execution_count": 7,
     "metadata": {},
     "output_type": "execute_result"
    }
   ],
   "source": [
    "# TLS\n",
    "\n",
    "import smtplib\n",
    "from email.mime.text import MIMEText\n",
    "from email.mime.multipart import MIMEMultipart\n",
    "\n",
    "server = smtplib.SMTP('smtp.gmail.com',587)\n",
    "server.ehlo()\n",
    "server.starttls()\n",
    "server.login(\"aceneo777@gmail.com\", '*10060115son1')\n",
    "\n",
    "msg = MIMEMultipart('alternative')\n",
    "msg['Subject'] = 'Test mail3'\n",
    "msg['From'] = \"aceneo777@gmail.com\"\n",
    "msg['To'] = \"aceneo777@gmail.com\"\n",
    "\n",
    "mail_html = \"<h1>Hi<h1>\"\n",
    "mail_html = MIMEText(mail_html, 'html')\n",
    "msg.attach(mail_html)\n",
    "server.sendmail(msg['From'],msg['To'].split(','),msg.as_string())\n",
    "server.quit()\n"
   ]
  },
  {
   "cell_type": "code",
   "execution_count": 8,
   "metadata": {},
   "outputs": [
    {
     "data": {
      "text/plain": [
       "(221, b'2.0.0 closing connection nu14sm1669795pjb.19 - gsmtp')"
      ]
     },
     "execution_count": 8,
     "metadata": {},
     "output_type": "execute_result"
    }
   ],
   "source": [
    "# Port 25\n",
    "\n",
    "import smtplib\n",
    "from email.mime.text import MIMEText\n",
    "from email.mime.multipart import MIMEMultipart\n",
    "\n",
    "server = smtplib.SMTP('smtp.gmail.com', 25)\n",
    "server.ehlo()\n",
    "server.starttls()\n",
    "server.login(\"aceneo777@gmail.com\", '*10060115son1')\n",
    "\n",
    "msg = MIMEMultipart('alternative')\n",
    "msg['Subject'] = 'Test mail3'\n",
    "msg['From'] = \"aceneo777@gmail.com\"\n",
    "msg['To'] = \"aceneo777@gmail.com\"\n",
    "\n",
    "mail_html = \"<h1>Hi<h1>\"\n",
    "mail_html = MIMEText(mail_html, 'html')\n",
    "msg.attach(mail_html)\n",
    "server.sendmail(msg['From'],msg['To'].split(','),msg.as_string())\n",
    "server.quit()\n",
    "\n"
   ]
  },
  {
   "cell_type": "code",
   "execution_count": 9,
   "metadata": {},
   "outputs": [],
   "source": [
    "# exchange mail server"
   ]
  },
  {
   "cell_type": "code",
   "execution_count": 10,
   "metadata": {},
   "outputs": [
    {
     "ename": "NameError",
     "evalue": "name 'Configuration' is not defined",
     "output_type": "error",
     "traceback": [
      "\u001b[0;31m---------------------------------------------------------------------------\u001b[0m",
      "\u001b[0;31mNameError\u001b[0m                                 Traceback (most recent call last)",
      "\u001b[0;32m<ipython-input-10-242754cb57d7>\u001b[0m in \u001b[0;36m<module>\u001b[0;34m\u001b[0m\n\u001b[1;32m      3\u001b[0m \u001b[0;32mfrom\u001b[0m \u001b[0memail\u001b[0m\u001b[0;34m.\u001b[0m\u001b[0mmime\u001b[0m\u001b[0;34m.\u001b[0m\u001b[0mtext\u001b[0m \u001b[0;32mimport\u001b[0m \u001b[0mMIMEText\u001b[0m\u001b[0;34m\u001b[0m\u001b[0;34m\u001b[0m\u001b[0m\n\u001b[1;32m      4\u001b[0m \u001b[0;32mfrom\u001b[0m \u001b[0memail\u001b[0m\u001b[0;34m.\u001b[0m\u001b[0mmime\u001b[0m\u001b[0;34m.\u001b[0m\u001b[0mmultipart\u001b[0m \u001b[0;32mimport\u001b[0m \u001b[0mMIMEMultipart\u001b[0m\u001b[0;34m\u001b[0m\u001b[0;34m\u001b[0m\u001b[0m\n\u001b[0;32m----> 5\u001b[0;31m \u001b[0mconfig\u001b[0m \u001b[0;34m=\u001b[0m \u001b[0mConfiguration\u001b[0m\u001b[0;34m(\u001b[0m\u001b[0mserver\u001b[0m\u001b[0;34m=\u001b[0m\u001b[0;34m'groupmail.kt.com'\u001b[0m\u001b[0;34m,\u001b[0m \u001b[0mcredentials\u001b[0m\u001b[0;34m=\u001b[0m\u001b[0mcreds\u001b[0m\u001b[0;34m)\u001b[0m\u001b[0;34m\u001b[0m\u001b[0;34m\u001b[0m\u001b[0m\n\u001b[0m",
      "\u001b[0;31mNameError\u001b[0m: name 'Configuration' is not defined"
     ]
    }
   ],
   "source": [
    "import smtplib\n",
    "from exchangelib import DELEGATE, Account, Credentials\n",
    "from email.mime.text import MIMEText\n",
    "from email.mime.multipart import MIMEMultipart\n",
    "config = Configuration(server='groupmail.kt.com', credentials=creds)\n"
   ]
  },
  {
   "cell_type": "code",
   "execution_count": 11,
   "metadata": {
    "scrolled": false
   },
   "outputs": [
    {
     "ename": "NameError",
     "evalue": "name 'Configuration' is not defined",
     "output_type": "error",
     "traceback": [
      "\u001b[0;31m---------------------------------------------------------------------------\u001b[0m",
      "\u001b[0;31mNameError\u001b[0m                                 Traceback (most recent call last)",
      "\u001b[0;32m<ipython-input-11-859f6a97a423>\u001b[0m in \u001b[0;36m<module>\u001b[0;34m\u001b[0m\n\u001b[1;32m      5\u001b[0m     password='*20190626s1')\n\u001b[1;32m      6\u001b[0m \u001b[0;34m\u001b[0m\u001b[0m\n\u001b[0;32m----> 7\u001b[0;31m \u001b[0mconfig\u001b[0m \u001b[0;34m=\u001b[0m \u001b[0mConfiguration\u001b[0m\u001b[0;34m(\u001b[0m\u001b[0mserver\u001b[0m\u001b[0;34m=\u001b[0m\u001b[0;34m'groupmail.kt.com'\u001b[0m\u001b[0;34m,\u001b[0m \u001b[0mcredentials\u001b[0m\u001b[0;34m=\u001b[0m\u001b[0mcreds\u001b[0m\u001b[0;34m)\u001b[0m\u001b[0;34m\u001b[0m\u001b[0;34m\u001b[0m\u001b[0m\n\u001b[0m\u001b[1;32m      8\u001b[0m \u001b[0;34m\u001b[0m\u001b[0m\n\u001b[1;32m      9\u001b[0m account = Account(\n",
      "\u001b[0;31mNameError\u001b[0m: name 'Configuration' is not defined"
     ]
    }
   ],
   "source": [
    "from exchangelib import DELEGATE, Account, Credentials\n",
    "\n",
    "creds = Credentials(\n",
    "    username='corp\\82022282', \n",
    "    password='*20190626s1')\n",
    "\n",
    "account = Account(\n",
    "    primary_smtp_address='ultimateneo@kt.com',\n",
    "    credentials=creds,\n",
    "    autodiscover=True, \n",
    "    access_type=DELEGATE)\n"
   ]
  },
  {
   "cell_type": "code",
   "execution_count": null,
   "metadata": {},
   "outputs": [],
   "source": [
    "credentials = Cre"
   ]
  },
  {
   "cell_type": "code",
   "execution_count": null,
   "metadata": {},
   "outputs": [],
   "source": []
  }
 ],
 "metadata": {
  "kernelspec": {
   "display_name": "Python 3",
   "language": "python",
   "name": "python3"
  },
  "language_info": {
   "codemirror_mode": {
    "name": "ipython",
    "version": 3
   },
   "file_extension": ".py",
   "mimetype": "text/x-python",
   "name": "python",
   "nbconvert_exporter": "python",
   "pygments_lexer": "ipython3",
   "version": "3.7.1"
  }
 },
 "nbformat": 4,
 "nbformat_minor": 2
}
