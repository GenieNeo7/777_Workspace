{
 "cells": [
  {
   "cell_type": "code",
   "execution_count": 176,
   "metadata": {},
   "outputs": [],
   "source": [
    "import pandas as pd"
   ]
  },
  {
   "cell_type": "code",
   "execution_count": 177,
   "metadata": {},
   "outputs": [
    {
     "name": "stdout",
     "output_type": "stream",
     "text": [
      "\u001b[34mExcelCalculate\u001b[m\u001b[m \u001b[34mcalculate\u001b[m\u001b[m      db.sqlite3     \u001b[31mmanage.py\u001b[m\u001b[m\r\n",
      "Untitled.ipynb data.xlsx      \u001b[34mmain\u001b[m\u001b[m           \u001b[34msendEmail\u001b[m\u001b[m\r\n"
     ]
    }
   ],
   "source": [
    "!ls"
   ]
  },
  {
   "cell_type": "code",
   "execution_count": 178,
   "metadata": {},
   "outputs": [],
   "source": [
    "df = pd.read_excel(\"data.xlsx\")"
   ]
  },
  {
   "cell_type": "code",
   "execution_count": 145,
   "metadata": {},
   "outputs": [
    {
     "data": {
      "text/html": [
       "<div>\n",
       "<style scoped>\n",
       "    .dataframe tbody tr th:only-of-type {\n",
       "        vertical-align: middle;\n",
       "    }\n",
       "\n",
       "    .dataframe tbody tr th {\n",
       "        vertical-align: top;\n",
       "    }\n",
       "\n",
       "    .dataframe thead th {\n",
       "        text-align: right;\n",
       "    }\n",
       "</style>\n",
       "<table border=\"1\" class=\"dataframe\">\n",
       "  <thead>\n",
       "    <tr style=\"text-align: right;\">\n",
       "      <th></th>\n",
       "      <th>grade</th>\n",
       "      <th>name</th>\n",
       "      <th>email</th>\n",
       "      <th>value</th>\n",
       "      <th>domain</th>\n",
       "      <th>addr</th>\n",
       "    </tr>\n",
       "  </thead>\n",
       "  <tbody>\n",
       "    <tr>\n",
       "      <th>0</th>\n",
       "      <td>1</td>\n",
       "      <td>Belle Hunter</td>\n",
       "      <td>Donec@luctusfelispurus.net</td>\n",
       "      <td>84</td>\n",
       "      <td>[Donec, luctusfelispurus.net]</td>\n",
       "      <td>luctusfelispurus.net</td>\n",
       "    </tr>\n",
       "    <tr>\n",
       "      <th>1</th>\n",
       "      <td>4</td>\n",
       "      <td>Hadley York</td>\n",
       "      <td>ipsum.non@tempusnonlacinia.net</td>\n",
       "      <td>97</td>\n",
       "      <td>[ipsum.non, tempusnonlacinia.net]</td>\n",
       "      <td>tempusnonlacinia.net</td>\n",
       "    </tr>\n",
       "    <tr>\n",
       "      <th>2</th>\n",
       "      <td>5</td>\n",
       "      <td>Maryam Graves</td>\n",
       "      <td>ut.pellentesque.eget@duinec.org</td>\n",
       "      <td>3</td>\n",
       "      <td>[ut.pellentesque.eget, duinec.org]</td>\n",
       "      <td>duinec.org</td>\n",
       "    </tr>\n",
       "    <tr>\n",
       "      <th>3</th>\n",
       "      <td>4</td>\n",
       "      <td>Armando Nguyen</td>\n",
       "      <td>Nunc.ullamcorper.velit@posuerecubilia.ca</td>\n",
       "      <td>25</td>\n",
       "      <td>[Nunc.ullamcorper.velit, posuerecubilia.ca]</td>\n",
       "      <td>posuerecubilia.ca</td>\n",
       "    </tr>\n",
       "    <tr>\n",
       "      <th>4</th>\n",
       "      <td>5</td>\n",
       "      <td>Dean House</td>\n",
       "      <td>cursus.et.eros@ametluctusvulputate.org</td>\n",
       "      <td>1</td>\n",
       "      <td>[cursus.et.eros, ametluctusvulputate.org]</td>\n",
       "      <td>ametluctusvulputate.org</td>\n",
       "    </tr>\n",
       "  </tbody>\n",
       "</table>\n",
       "</div>"
      ],
      "text/plain": [
       "   grade            name                                     email  value  \\\n",
       "0      1    Belle Hunter                Donec@luctusfelispurus.net     84   \n",
       "1      4     Hadley York            ipsum.non@tempusnonlacinia.net     97   \n",
       "2      5   Maryam Graves           ut.pellentesque.eget@duinec.org      3   \n",
       "3      4  Armando Nguyen  Nunc.ullamcorper.velit@posuerecubilia.ca     25   \n",
       "4      5      Dean House    cursus.et.eros@ametluctusvulputate.org      1   \n",
       "\n",
       "                                        domain                     addr  \n",
       "0                [Donec, luctusfelispurus.net]     luctusfelispurus.net  \n",
       "1            [ipsum.non, tempusnonlacinia.net]     tempusnonlacinia.net  \n",
       "2           [ut.pellentesque.eget, duinec.org]               duinec.org  \n",
       "3  [Nunc.ullamcorper.velit, posuerecubilia.ca]        posuerecubilia.ca  \n",
       "4    [cursus.et.eros, ametluctusvulputate.org]  ametluctusvulputate.org  "
      ]
     },
     "execution_count": 145,
     "metadata": {},
     "output_type": "execute_result"
    }
   ],
   "source": [
    "df.head()"
   ]
  },
  {
   "cell_type": "code",
   "execution_count": 146,
   "metadata": {},
   "outputs": [
    {
     "data": {
      "text/plain": [
       "grade\n",
       "1    4\n",
       "2    3\n",
       "3    0\n",
       "4    1\n",
       "5    1\n",
       "Name: value, dtype: int64"
      ]
     },
     "execution_count": 146,
     "metadata": {},
     "output_type": "execute_result"
    }
   ],
   "source": [
    "df.groupby('grade').value.min()"
   ]
  },
  {
   "cell_type": "code",
   "execution_count": 156,
   "metadata": {},
   "outputs": [],
   "source": [
    "grade_dic = dict()\n",
    "total_row_num = len(df.index)\n",
    "\n",
    "for i in range(len(df.index)):\n",
    "\n",
    "    data =df.loc[i]\n",
    "    if not data['grade'] in grade_dic.keys():\n",
    "        grade_dic[data['grade']] = list([data['value']])\n",
    "    else:\n",
    "        pass\n",
    "        grade_dic[data['grade']].append(data['value'])\n",
    "        \n",
    "grade_calculate_dic = {}\n",
    "for key in grade_dic.keys():\n",
    "    grade_calculate_dic[key] = {}\n",
    "    grade_calculate_dic[key]['min'] = min(grade_dic[key])\n",
    "    grade_calculate_dic[key]['max'] = max(grade_dic[key])\n",
    "    grade_calculate_dic[key]['avg'] = float(sum(grade_dic[key]))/len(grade_dic[key])\n",
    "    \n",
    "grade_list = list(grade_calculate_dic.keys())\n",
    "grade_list.sort()\n",
    "for key in grade_list:\n",
    "    print(grade_calculate_dic[key])"
   ]
  },
  {
   "cell_type": "code",
   "execution_count": 157,
   "metadata": {},
   "outputs": [],
   "source": []
  },
  {
   "cell_type": "code",
   "execution_count": 162,
   "metadata": {},
   "outputs": [],
   "source": []
  },
  {
   "cell_type": "code",
   "execution_count": 165,
   "metadata": {},
   "outputs": [],
   "source": []
  },
  {
   "cell_type": "code",
   "execution_count": 170,
   "metadata": {},
   "outputs": [
    {
     "name": "stdout",
     "output_type": "stream",
     "text": [
      "{'min': 4, 'max': 100, 'avg': 55.38461538461539}\n",
      "{'min': 3, 'max': 95, 'avg': 51.421052631578945}\n",
      "{'min': 0, 'max': 91, 'avg': 39.458333333333336}\n",
      "{'min': 1, 'max': 97, 'avg': 43.85}\n",
      "{'min': 1, 'max': 99, 'avg': 48.375}\n"
     ]
    }
   ],
   "source": []
  },
  {
   "cell_type": "code",
   "execution_count": 179,
   "metadata": {},
   "outputs": [
    {
     "data": {
      "text/html": [
       "<div>\n",
       "<style scoped>\n",
       "    .dataframe tbody tr th:only-of-type {\n",
       "        vertical-align: middle;\n",
       "    }\n",
       "\n",
       "    .dataframe tbody tr th {\n",
       "        vertical-align: top;\n",
       "    }\n",
       "\n",
       "    .dataframe thead th {\n",
       "        text-align: right;\n",
       "    }\n",
       "</style>\n",
       "<table border=\"1\" class=\"dataframe\">\n",
       "  <thead>\n",
       "    <tr style=\"text-align: right;\">\n",
       "      <th></th>\n",
       "      <th>grade</th>\n",
       "      <th>name</th>\n",
       "      <th>email</th>\n",
       "      <th>value</th>\n",
       "    </tr>\n",
       "  </thead>\n",
       "  <tbody>\n",
       "    <tr>\n",
       "      <th>0</th>\n",
       "      <td>1</td>\n",
       "      <td>Belle Hunter</td>\n",
       "      <td>Donec@luctusfelispurus.net</td>\n",
       "      <td>84</td>\n",
       "    </tr>\n",
       "    <tr>\n",
       "      <th>1</th>\n",
       "      <td>4</td>\n",
       "      <td>Hadley York</td>\n",
       "      <td>ipsum.non@tempusnonlacinia.net</td>\n",
       "      <td>97</td>\n",
       "    </tr>\n",
       "    <tr>\n",
       "      <th>2</th>\n",
       "      <td>5</td>\n",
       "      <td>Maryam Graves</td>\n",
       "      <td>ut.pellentesque.eget@duinec.org</td>\n",
       "      <td>3</td>\n",
       "    </tr>\n",
       "    <tr>\n",
       "      <th>3</th>\n",
       "      <td>4</td>\n",
       "      <td>Armando Nguyen</td>\n",
       "      <td>Nunc.ullamcorper.velit@posuerecubilia.ca</td>\n",
       "      <td>25</td>\n",
       "    </tr>\n",
       "    <tr>\n",
       "      <th>4</th>\n",
       "      <td>5</td>\n",
       "      <td>Dean House</td>\n",
       "      <td>cursus.et.eros@ametluctusvulputate.org</td>\n",
       "      <td>1</td>\n",
       "    </tr>\n",
       "  </tbody>\n",
       "</table>\n",
       "</div>"
      ],
      "text/plain": [
       "   grade            name                                     email  value\n",
       "0      1    Belle Hunter                Donec@luctusfelispurus.net     84\n",
       "1      4     Hadley York            ipsum.non@tempusnonlacinia.net     97\n",
       "2      5   Maryam Graves           ut.pellentesque.eget@duinec.org      3\n",
       "3      4  Armando Nguyen  Nunc.ullamcorper.velit@posuerecubilia.ca     25\n",
       "4      5      Dean House    cursus.et.eros@ametluctusvulputate.org      1"
      ]
     },
     "execution_count": 179,
     "metadata": {},
     "output_type": "execute_result"
    }
   ],
   "source": [
    "df.head()"
   ]
  },
  {
   "cell_type": "code",
   "execution_count": 208,
   "metadata": {},
   "outputs": [
    {
     "ename": "ValueError",
     "evalue": "Length of values does not match length of index",
     "output_type": "error",
     "traceback": [
      "\u001b[0;31m---------------------------------------------------------------------------\u001b[0m",
      "\u001b[0;31mValueError\u001b[0m                                Traceback (most recent call last)",
      "\u001b[0;32m<ipython-input-208-939cfd823973>\u001b[0m in \u001b[0;36m<module>\u001b[0;34m\u001b[0m\n\u001b[0;32m----> 1\u001b[0;31m \u001b[0mdf\u001b[0m\u001b[0;34m[\u001b[0m\u001b[0;34m'domain'\u001b[0m\u001b[0;34m]\u001b[0m \u001b[0;34m=\u001b[0m \u001b[0;34m(\u001b[0m\u001b[0mdf\u001b[0m\u001b[0;34m[\u001b[0m\u001b[0;34m'email'\u001b[0m\u001b[0;34m]\u001b[0m\u001b[0;34m.\u001b[0m\u001b[0mstr\u001b[0m\u001b[0;34m.\u001b[0m\u001b[0msplit\u001b[0m\u001b[0;34m(\u001b[0m\u001b[0;34m'@'\u001b[0m\u001b[0;34m)\u001b[0m\u001b[0;34m)\u001b[0m\u001b[0;34m[\u001b[0m\u001b[0;36m1\u001b[0m\u001b[0;34m]\u001b[0m\u001b[0;34m\u001b[0m\u001b[0;34m\u001b[0m\u001b[0m\n\u001b[0m",
      "\u001b[0;32m~/anaconda3/lib/python3.7/site-packages/pandas/core/frame.py\u001b[0m in \u001b[0;36m__setitem__\u001b[0;34m(self, key, value)\u001b[0m\n\u001b[1;32m   3117\u001b[0m         \u001b[0;32melse\u001b[0m\u001b[0;34m:\u001b[0m\u001b[0;34m\u001b[0m\u001b[0;34m\u001b[0m\u001b[0m\n\u001b[1;32m   3118\u001b[0m             \u001b[0;31m# set column\u001b[0m\u001b[0;34m\u001b[0m\u001b[0;34m\u001b[0m\u001b[0;34m\u001b[0m\u001b[0m\n\u001b[0;32m-> 3119\u001b[0;31m             \u001b[0mself\u001b[0m\u001b[0;34m.\u001b[0m\u001b[0m_set_item\u001b[0m\u001b[0;34m(\u001b[0m\u001b[0mkey\u001b[0m\u001b[0;34m,\u001b[0m \u001b[0mvalue\u001b[0m\u001b[0;34m)\u001b[0m\u001b[0;34m\u001b[0m\u001b[0;34m\u001b[0m\u001b[0m\n\u001b[0m\u001b[1;32m   3120\u001b[0m \u001b[0;34m\u001b[0m\u001b[0m\n\u001b[1;32m   3121\u001b[0m     \u001b[0;32mdef\u001b[0m \u001b[0m_setitem_slice\u001b[0m\u001b[0;34m(\u001b[0m\u001b[0mself\u001b[0m\u001b[0;34m,\u001b[0m \u001b[0mkey\u001b[0m\u001b[0;34m,\u001b[0m \u001b[0mvalue\u001b[0m\u001b[0;34m)\u001b[0m\u001b[0;34m:\u001b[0m\u001b[0;34m\u001b[0m\u001b[0;34m\u001b[0m\u001b[0m\n",
      "\u001b[0;32m~/anaconda3/lib/python3.7/site-packages/pandas/core/frame.py\u001b[0m in \u001b[0;36m_set_item\u001b[0;34m(self, key, value)\u001b[0m\n\u001b[1;32m   3192\u001b[0m \u001b[0;34m\u001b[0m\u001b[0m\n\u001b[1;32m   3193\u001b[0m         \u001b[0mself\u001b[0m\u001b[0;34m.\u001b[0m\u001b[0m_ensure_valid_index\u001b[0m\u001b[0;34m(\u001b[0m\u001b[0mvalue\u001b[0m\u001b[0;34m)\u001b[0m\u001b[0;34m\u001b[0m\u001b[0;34m\u001b[0m\u001b[0m\n\u001b[0;32m-> 3194\u001b[0;31m         \u001b[0mvalue\u001b[0m \u001b[0;34m=\u001b[0m \u001b[0mself\u001b[0m\u001b[0;34m.\u001b[0m\u001b[0m_sanitize_column\u001b[0m\u001b[0;34m(\u001b[0m\u001b[0mkey\u001b[0m\u001b[0;34m,\u001b[0m \u001b[0mvalue\u001b[0m\u001b[0;34m)\u001b[0m\u001b[0;34m\u001b[0m\u001b[0;34m\u001b[0m\u001b[0m\n\u001b[0m\u001b[1;32m   3195\u001b[0m         \u001b[0mNDFrame\u001b[0m\u001b[0;34m.\u001b[0m\u001b[0m_set_item\u001b[0m\u001b[0;34m(\u001b[0m\u001b[0mself\u001b[0m\u001b[0;34m,\u001b[0m \u001b[0mkey\u001b[0m\u001b[0;34m,\u001b[0m \u001b[0mvalue\u001b[0m\u001b[0;34m)\u001b[0m\u001b[0;34m\u001b[0m\u001b[0;34m\u001b[0m\u001b[0m\n\u001b[1;32m   3196\u001b[0m \u001b[0;34m\u001b[0m\u001b[0m\n",
      "\u001b[0;32m~/anaconda3/lib/python3.7/site-packages/pandas/core/frame.py\u001b[0m in \u001b[0;36m_sanitize_column\u001b[0;34m(self, key, value, broadcast)\u001b[0m\n\u001b[1;32m   3389\u001b[0m \u001b[0;34m\u001b[0m\u001b[0m\n\u001b[1;32m   3390\u001b[0m             \u001b[0;31m# turn me into an ndarray\u001b[0m\u001b[0;34m\u001b[0m\u001b[0;34m\u001b[0m\u001b[0;34m\u001b[0m\u001b[0m\n\u001b[0;32m-> 3391\u001b[0;31m             \u001b[0mvalue\u001b[0m \u001b[0;34m=\u001b[0m \u001b[0m_sanitize_index\u001b[0m\u001b[0;34m(\u001b[0m\u001b[0mvalue\u001b[0m\u001b[0;34m,\u001b[0m \u001b[0mself\u001b[0m\u001b[0;34m.\u001b[0m\u001b[0mindex\u001b[0m\u001b[0;34m,\u001b[0m \u001b[0mcopy\u001b[0m\u001b[0;34m=\u001b[0m\u001b[0;32mFalse\u001b[0m\u001b[0;34m)\u001b[0m\u001b[0;34m\u001b[0m\u001b[0;34m\u001b[0m\u001b[0m\n\u001b[0m\u001b[1;32m   3392\u001b[0m             \u001b[0;32mif\u001b[0m \u001b[0;32mnot\u001b[0m \u001b[0misinstance\u001b[0m\u001b[0;34m(\u001b[0m\u001b[0mvalue\u001b[0m\u001b[0;34m,\u001b[0m \u001b[0;34m(\u001b[0m\u001b[0mnp\u001b[0m\u001b[0;34m.\u001b[0m\u001b[0mndarray\u001b[0m\u001b[0;34m,\u001b[0m \u001b[0mIndex\u001b[0m\u001b[0;34m)\u001b[0m\u001b[0;34m)\u001b[0m\u001b[0;34m:\u001b[0m\u001b[0;34m\u001b[0m\u001b[0;34m\u001b[0m\u001b[0m\n\u001b[1;32m   3393\u001b[0m                 \u001b[0;32mif\u001b[0m \u001b[0misinstance\u001b[0m\u001b[0;34m(\u001b[0m\u001b[0mvalue\u001b[0m\u001b[0;34m,\u001b[0m \u001b[0mlist\u001b[0m\u001b[0;34m)\u001b[0m \u001b[0;32mand\u001b[0m \u001b[0mlen\u001b[0m\u001b[0;34m(\u001b[0m\u001b[0mvalue\u001b[0m\u001b[0;34m)\u001b[0m \u001b[0;34m>\u001b[0m \u001b[0;36m0\u001b[0m\u001b[0;34m:\u001b[0m\u001b[0;34m\u001b[0m\u001b[0;34m\u001b[0m\u001b[0m\n",
      "\u001b[0;32m~/anaconda3/lib/python3.7/site-packages/pandas/core/series.py\u001b[0m in \u001b[0;36m_sanitize_index\u001b[0;34m(data, index, copy)\u001b[0m\n\u001b[1;32m   3999\u001b[0m \u001b[0;34m\u001b[0m\u001b[0m\n\u001b[1;32m   4000\u001b[0m     \u001b[0;32mif\u001b[0m \u001b[0mlen\u001b[0m\u001b[0;34m(\u001b[0m\u001b[0mdata\u001b[0m\u001b[0;34m)\u001b[0m \u001b[0;34m!=\u001b[0m \u001b[0mlen\u001b[0m\u001b[0;34m(\u001b[0m\u001b[0mindex\u001b[0m\u001b[0;34m)\u001b[0m\u001b[0;34m:\u001b[0m\u001b[0;34m\u001b[0m\u001b[0;34m\u001b[0m\u001b[0m\n\u001b[0;32m-> 4001\u001b[0;31m         \u001b[0;32mraise\u001b[0m \u001b[0mValueError\u001b[0m\u001b[0;34m(\u001b[0m\u001b[0;34m'Length of values does not match length of '\u001b[0m \u001b[0;34m'index'\u001b[0m\u001b[0;34m)\u001b[0m\u001b[0;34m\u001b[0m\u001b[0;34m\u001b[0m\u001b[0m\n\u001b[0m\u001b[1;32m   4002\u001b[0m \u001b[0;34m\u001b[0m\u001b[0m\n\u001b[1;32m   4003\u001b[0m     \u001b[0;32mif\u001b[0m \u001b[0misinstance\u001b[0m\u001b[0;34m(\u001b[0m\u001b[0mdata\u001b[0m\u001b[0;34m,\u001b[0m \u001b[0mABCIndexClass\u001b[0m\u001b[0;34m)\u001b[0m \u001b[0;32mand\u001b[0m \u001b[0;32mnot\u001b[0m \u001b[0mcopy\u001b[0m\u001b[0;34m:\u001b[0m\u001b[0;34m\u001b[0m\u001b[0;34m\u001b[0m\u001b[0m\n",
      "\u001b[0;31mValueError\u001b[0m: Length of values does not match length of index"
     ]
    }
   ],
   "source": [
    "df['domain'] = df['email'].str.split('@')"
   ]
  },
  {
   "cell_type": "code",
   "execution_count": 197,
   "metadata": {},
   "outputs": [
    {
     "data": {
      "text/html": [
       "<div>\n",
       "<style scoped>\n",
       "    .dataframe tbody tr th:only-of-type {\n",
       "        vertical-align: middle;\n",
       "    }\n",
       "\n",
       "    .dataframe tbody tr th {\n",
       "        vertical-align: top;\n",
       "    }\n",
       "\n",
       "    .dataframe thead th {\n",
       "        text-align: right;\n",
       "    }\n",
       "</style>\n",
       "<table border=\"1\" class=\"dataframe\">\n",
       "  <thead>\n",
       "    <tr style=\"text-align: right;\">\n",
       "      <th></th>\n",
       "      <th>grade</th>\n",
       "      <th>name</th>\n",
       "      <th>email</th>\n",
       "      <th>value</th>\n",
       "      <th>domain</th>\n",
       "    </tr>\n",
       "  </thead>\n",
       "  <tbody>\n",
       "    <tr>\n",
       "      <th>0</th>\n",
       "      <td>1</td>\n",
       "      <td>Belle Hunter</td>\n",
       "      <td>Donec@luctusfelispurus.net</td>\n",
       "      <td>84</td>\n",
       "      <td>[Donec, luctusfelispurus.net]</td>\n",
       "    </tr>\n",
       "    <tr>\n",
       "      <th>1</th>\n",
       "      <td>4</td>\n",
       "      <td>Hadley York</td>\n",
       "      <td>ipsum.non@tempusnonlacinia.net</td>\n",
       "      <td>97</td>\n",
       "      <td>[ipsum.non, tempusnonlacinia.net]</td>\n",
       "    </tr>\n",
       "    <tr>\n",
       "      <th>2</th>\n",
       "      <td>5</td>\n",
       "      <td>Maryam Graves</td>\n",
       "      <td>ut.pellentesque.eget@duinec.org</td>\n",
       "      <td>3</td>\n",
       "      <td>[ut.pellentesque.eget, duinec.org]</td>\n",
       "    </tr>\n",
       "    <tr>\n",
       "      <th>3</th>\n",
       "      <td>4</td>\n",
       "      <td>Armando Nguyen</td>\n",
       "      <td>Nunc.ullamcorper.velit@posuerecubilia.ca</td>\n",
       "      <td>25</td>\n",
       "      <td>[Nunc.ullamcorper.velit, posuerecubilia.ca]</td>\n",
       "    </tr>\n",
       "    <tr>\n",
       "      <th>4</th>\n",
       "      <td>5</td>\n",
       "      <td>Dean House</td>\n",
       "      <td>cursus.et.eros@ametluctusvulputate.org</td>\n",
       "      <td>1</td>\n",
       "      <td>[cursus.et.eros, ametluctusvulputate.org]</td>\n",
       "    </tr>\n",
       "  </tbody>\n",
       "</table>\n",
       "</div>"
      ],
      "text/plain": [
       "   grade            name                                     email  value  \\\n",
       "0      1    Belle Hunter                Donec@luctusfelispurus.net     84   \n",
       "1      4     Hadley York            ipsum.non@tempusnonlacinia.net     97   \n",
       "2      5   Maryam Graves           ut.pellentesque.eget@duinec.org      3   \n",
       "3      4  Armando Nguyen  Nunc.ullamcorper.velit@posuerecubilia.ca     25   \n",
       "4      5      Dean House    cursus.et.eros@ametluctusvulputate.org      1   \n",
       "\n",
       "                                        domain  \n",
       "0                [Donec, luctusfelispurus.net]  \n",
       "1            [ipsum.non, tempusnonlacinia.net]  \n",
       "2           [ut.pellentesque.eget, duinec.org]  \n",
       "3  [Nunc.ullamcorper.velit, posuerecubilia.ca]  \n",
       "4    [cursus.et.eros, ametluctusvulputate.org]  "
      ]
     },
     "execution_count": 197,
     "metadata": {},
     "output_type": "execute_result"
    }
   ],
   "source": [
    "df.head()"
   ]
  },
  {
   "cell_type": "code",
   "execution_count": null,
   "metadata": {},
   "outputs": [],
   "source": [
    "for i in range(len(df.index)):\n",
    "    tlst = df.loc[i, ['domain']]\n",
    "    print(type(tlst))"
   ]
  },
  {
   "cell_type": "code",
   "execution_count": 205,
   "metadata": {},
   "outputs": [
    {
     "data": {
      "text/plain": [
       "domain    [ipsum.non, tempusnonlacinia.net]\n",
       "Name: 1, dtype: object"
      ]
     },
     "execution_count": 205,
     "metadata": {},
     "output_type": "execute_result"
    }
   ],
   "source": [
    "df.loc[1, ['domain']]"
   ]
  },
  {
   "cell_type": "code",
   "execution_count": null,
   "metadata": {},
   "outputs": [],
   "source": []
  },
  {
   "cell_type": "code",
   "execution_count": 96,
   "metadata": {},
   "outputs": [],
   "source": [
    "df['domain'] = df['email'].str.split('@').tolist()\n",
    "df['addr'] = [i[1] for i in df['domain']]"
   ]
  },
  {
   "cell_type": "raw",
   "metadata": {},
   "source": [
    "df.groupby('addr').count().sort_values('grade')"
   ]
  },
  {
   "cell_type": "code",
   "execution_count": 107,
   "metadata": {},
   "outputs": [
    {
     "data": {
      "text/html": [
       "<div>\n",
       "<style scoped>\n",
       "    .dataframe tbody tr th:only-of-type {\n",
       "        vertical-align: middle;\n",
       "    }\n",
       "\n",
       "    .dataframe tbody tr th {\n",
       "        vertical-align: top;\n",
       "    }\n",
       "\n",
       "    .dataframe thead th {\n",
       "        text-align: right;\n",
       "    }\n",
       "</style>\n",
       "<table border=\"1\" class=\"dataframe\">\n",
       "  <thead>\n",
       "    <tr style=\"text-align: right;\">\n",
       "      <th></th>\n",
       "      <th>grade</th>\n",
       "      <th>name</th>\n",
       "      <th>email</th>\n",
       "      <th>value</th>\n",
       "      <th>domain</th>\n",
       "      <th>addr</th>\n",
       "    </tr>\n",
       "  </thead>\n",
       "  <tbody>\n",
       "    <tr>\n",
       "      <th>0</th>\n",
       "      <td>1</td>\n",
       "      <td>Belle Hunter</td>\n",
       "      <td>Donec@luctusfelispurus.net</td>\n",
       "      <td>84</td>\n",
       "      <td>[Donec, luctusfelispurus.net]</td>\n",
       "      <td>luctusfelispurus.net</td>\n",
       "    </tr>\n",
       "    <tr>\n",
       "      <th>1</th>\n",
       "      <td>4</td>\n",
       "      <td>Hadley York</td>\n",
       "      <td>ipsum.non@tempusnonlacinia.net</td>\n",
       "      <td>97</td>\n",
       "      <td>[ipsum.non, tempusnonlacinia.net]</td>\n",
       "      <td>tempusnonlacinia.net</td>\n",
       "    </tr>\n",
       "    <tr>\n",
       "      <th>2</th>\n",
       "      <td>5</td>\n",
       "      <td>Maryam Graves</td>\n",
       "      <td>ut.pellentesque.eget@duinec.org</td>\n",
       "      <td>3</td>\n",
       "      <td>[ut.pellentesque.eget, duinec.org]</td>\n",
       "      <td>duinec.org</td>\n",
       "    </tr>\n",
       "    <tr>\n",
       "      <th>3</th>\n",
       "      <td>4</td>\n",
       "      <td>Armando Nguyen</td>\n",
       "      <td>Nunc.ullamcorper.velit@posuerecubilia.ca</td>\n",
       "      <td>25</td>\n",
       "      <td>[Nunc.ullamcorper.velit, posuerecubilia.ca]</td>\n",
       "      <td>posuerecubilia.ca</td>\n",
       "    </tr>\n",
       "    <tr>\n",
       "      <th>4</th>\n",
       "      <td>5</td>\n",
       "      <td>Dean House</td>\n",
       "      <td>cursus.et.eros@ametluctusvulputate.org</td>\n",
       "      <td>1</td>\n",
       "      <td>[cursus.et.eros, ametluctusvulputate.org]</td>\n",
       "      <td>ametluctusvulputate.org</td>\n",
       "    </tr>\n",
       "  </tbody>\n",
       "</table>\n",
       "</div>"
      ],
      "text/plain": [
       "   grade            name                                     email  value  \\\n",
       "0      1    Belle Hunter                Donec@luctusfelispurus.net     84   \n",
       "1      4     Hadley York            ipsum.non@tempusnonlacinia.net     97   \n",
       "2      5   Maryam Graves           ut.pellentesque.eget@duinec.org      3   \n",
       "3      4  Armando Nguyen  Nunc.ullamcorper.velit@posuerecubilia.ca     25   \n",
       "4      5      Dean House    cursus.et.eros@ametluctusvulputate.org      1   \n",
       "\n",
       "                                        domain                     addr  \n",
       "0                [Donec, luctusfelispurus.net]     luctusfelispurus.net  \n",
       "1            [ipsum.non, tempusnonlacinia.net]     tempusnonlacinia.net  \n",
       "2           [ut.pellentesque.eget, duinec.org]               duinec.org  \n",
       "3  [Nunc.ullamcorper.velit, posuerecubilia.ca]        posuerecubilia.ca  \n",
       "4    [cursus.et.eros, ametluctusvulputate.org]  ametluctusvulputate.org  "
      ]
     },
     "execution_count": 107,
     "metadata": {},
     "output_type": "execute_result"
    }
   ],
   "source": [
    "df.head()"
   ]
  },
  {
   "cell_type": "code",
   "execution_count": 102,
   "metadata": {},
   "outputs": [],
   "source": [
    "grade_dic = {}"
   ]
  },
  {
   "cell_type": "code",
   "execution_count": 108,
   "metadata": {},
   "outputs": [
    {
     "data": {
      "text/html": [
       "<div>\n",
       "<style scoped>\n",
       "    .dataframe tbody tr th:only-of-type {\n",
       "        vertical-align: middle;\n",
       "    }\n",
       "\n",
       "    .dataframe tbody tr th {\n",
       "        vertical-align: top;\n",
       "    }\n",
       "\n",
       "    .dataframe thead th {\n",
       "        text-align: right;\n",
       "    }\n",
       "</style>\n",
       "<table border=\"1\" class=\"dataframe\">\n",
       "  <thead>\n",
       "    <tr style=\"text-align: right;\">\n",
       "      <th></th>\n",
       "      <th>grade</th>\n",
       "      <th>name</th>\n",
       "      <th>email</th>\n",
       "      <th>value</th>\n",
       "      <th>domain</th>\n",
       "      <th>addr</th>\n",
       "    </tr>\n",
       "  </thead>\n",
       "  <tbody>\n",
       "    <tr>\n",
       "      <th>0</th>\n",
       "      <td>1</td>\n",
       "      <td>Belle Hunter</td>\n",
       "      <td>Donec@luctusfelispurus.net</td>\n",
       "      <td>84</td>\n",
       "      <td>[Donec, luctusfelispurus.net]</td>\n",
       "      <td>luctusfelispurus.net</td>\n",
       "    </tr>\n",
       "    <tr>\n",
       "      <th>1</th>\n",
       "      <td>4</td>\n",
       "      <td>Hadley York</td>\n",
       "      <td>ipsum.non@tempusnonlacinia.net</td>\n",
       "      <td>97</td>\n",
       "      <td>[ipsum.non, tempusnonlacinia.net]</td>\n",
       "      <td>tempusnonlacinia.net</td>\n",
       "    </tr>\n",
       "    <tr>\n",
       "      <th>2</th>\n",
       "      <td>5</td>\n",
       "      <td>Maryam Graves</td>\n",
       "      <td>ut.pellentesque.eget@duinec.org</td>\n",
       "      <td>3</td>\n",
       "      <td>[ut.pellentesque.eget, duinec.org]</td>\n",
       "      <td>duinec.org</td>\n",
       "    </tr>\n",
       "    <tr>\n",
       "      <th>3</th>\n",
       "      <td>4</td>\n",
       "      <td>Armando Nguyen</td>\n",
       "      <td>Nunc.ullamcorper.velit@posuerecubilia.ca</td>\n",
       "      <td>25</td>\n",
       "      <td>[Nunc.ullamcorper.velit, posuerecubilia.ca]</td>\n",
       "      <td>posuerecubilia.ca</td>\n",
       "    </tr>\n",
       "    <tr>\n",
       "      <th>4</th>\n",
       "      <td>5</td>\n",
       "      <td>Dean House</td>\n",
       "      <td>cursus.et.eros@ametluctusvulputate.org</td>\n",
       "      <td>1</td>\n",
       "      <td>[cursus.et.eros, ametluctusvulputate.org]</td>\n",
       "      <td>ametluctusvulputate.org</td>\n",
       "    </tr>\n",
       "  </tbody>\n",
       "</table>\n",
       "</div>"
      ],
      "text/plain": [
       "   grade            name                                     email  value  \\\n",
       "0      1    Belle Hunter                Donec@luctusfelispurus.net     84   \n",
       "1      4     Hadley York            ipsum.non@tempusnonlacinia.net     97   \n",
       "2      5   Maryam Graves           ut.pellentesque.eget@duinec.org      3   \n",
       "3      4  Armando Nguyen  Nunc.ullamcorper.velit@posuerecubilia.ca     25   \n",
       "4      5      Dean House    cursus.et.eros@ametluctusvulputate.org      1   \n",
       "\n",
       "                                        domain                     addr  \n",
       "0                [Donec, luctusfelispurus.net]     luctusfelispurus.net  \n",
       "1            [ipsum.non, tempusnonlacinia.net]     tempusnonlacinia.net  \n",
       "2           [ut.pellentesque.eget, duinec.org]               duinec.org  \n",
       "3  [Nunc.ullamcorper.velit, posuerecubilia.ca]        posuerecubilia.ca  \n",
       "4    [cursus.et.eros, ametluctusvulputate.org]  ametluctusvulputate.org  "
      ]
     },
     "execution_count": 108,
     "metadata": {},
     "output_type": "execute_result"
    }
   ],
   "source": []
  },
  {
   "cell_type": "code",
   "execution_count": null,
   "metadata": {},
   "outputs": [],
   "source": []
  },
  {
   "cell_type": "code",
   "execution_count": null,
   "metadata": {},
   "outputs": [],
   "source": []
  },
  {
   "cell_type": "code",
   "execution_count": null,
   "metadata": {},
   "outputs": [],
   "source": []
  },
  {
   "cell_type": "code",
   "execution_count": null,
   "metadata": {},
   "outputs": [],
   "source": []
  },
  {
   "cell_type": "code",
   "execution_count": null,
   "metadata": {},
   "outputs": [],
   "source": []
  },
  {
   "cell_type": "code",
   "execution_count": null,
   "metadata": {},
   "outputs": [],
   "source": []
  },
  {
   "cell_type": "code",
   "execution_count": null,
   "metadata": {},
   "outputs": [],
   "source": []
  },
  {
   "cell_type": "code",
   "execution_count": null,
   "metadata": {},
   "outputs": [],
   "source": []
  },
  {
   "cell_type": "code",
   "execution_count": null,
   "metadata": {},
   "outputs": [],
   "source": []
  },
  {
   "cell_type": "code",
   "execution_count": null,
   "metadata": {},
   "outputs": [],
   "source": []
  },
  {
   "cell_type": "code",
   "execution_count": null,
   "metadata": {},
   "outputs": [],
   "source": []
  },
  {
   "cell_type": "raw",
   "metadata": {},
   "source": []
  }
 ],
 "metadata": {
  "kernelspec": {
   "display_name": "Python 3",
   "language": "python",
   "name": "python3"
  },
  "language_info": {
   "codemirror_mode": {
    "name": "ipython",
    "version": 3
   },
   "file_extension": ".py",
   "mimetype": "text/x-python",
   "name": "python",
   "nbconvert_exporter": "python",
   "pygments_lexer": "ipython3",
   "version": "3.7.1"
  }
 },
 "nbformat": 4,
 "nbformat_minor": 2
}
