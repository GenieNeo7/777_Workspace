{
 "cells": [
  {
   "cell_type": "markdown",
   "metadata": {},
   "source": [
    "### Pandas Key\n",
    "\n",
    "1. 각 행, 열은 series 다\n",
    "2. loc\n",
    " - loc는 [행, 열]을 통한 검색 수행\n",
    " - 열은 문자 기반의 검색 (ex. df.loc[1:5, ['A','B','C']) 1~5행 A,B,C열\n",
    " - slicing 가능 df.loc[1:5, 'A':'C']) 위오 같은 결과 나온다\n",
    " - 열 검색의 key는 복수면 []로 묶으며, 단일 또는 슬라이싱이면 [] 없이\n",
    " \n",
    " "
   ]
  },
  {
   "cell_type": "code",
   "execution_count": null,
   "metadata": {},
   "outputs": [],
   "source": []
  }
 ],
 "metadata": {
  "kernelspec": {
   "display_name": "Python 3",
   "language": "python",
   "name": "python3"
  }
 },
 "nbformat": 4,
 "nbformat_minor": 4
}
